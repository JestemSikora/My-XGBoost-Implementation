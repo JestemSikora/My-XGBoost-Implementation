{
 "cells": [
  {
   "cell_type": "markdown",
   "id": "dc49546e",
   "metadata": {},
   "source": [
    "# My XGBoost implementation\n",
    "\n",
    "This time, plan is a little diffrent. I will exceptionally not implement the code from scratch, because I would probably need C++ efficiency.\n",
    "Main goal of these mini-projects was to have handy and not complicated \"notebook\" written in Python to refresh my knowledge later in my journey. XGBoost is more computationally difficult, so it would disrupt the initial assumption for this project.\n",
    "\n",
    "Of course, I could implement it on smaller dataset, but does it make sense when XGBoost was made for really large datasets?\n",
    "\n",
    "So, this time I will do only two steps.\n",
    "\n",
    "    1. Notes for XGBoost\n",
    "    2. Implementation from libary"
   ]
  },
  {
   "cell_type": "code",
   "execution_count": 20,
   "id": "bdb4a336",
   "metadata": {},
   "outputs": [
    {
     "name": "stdout",
     "output_type": "stream",
     "text": [
      "Let's get to work!\n"
     ]
    }
   ],
   "source": [
    "print(\"Let's get to work!\")"
   ]
  },
  {
   "cell_type": "markdown",
   "id": "963db238",
   "metadata": {},
   "source": [
    "## 1. Notes\n",
    "    A. Main idea\n",
    "    B. How it works\n",
    "    C. Math behind the algorithm\n",
    "    D. When to use it?"
   ]
  },
  {
   "cell_type": "markdown",
   "id": "6d148479",
   "metadata": {},
   "source": [
    "### A. Main idea"
   ]
  },
  {
   "cell_type": "markdown",
   "id": "2dadee02",
   "metadata": {},
   "source": [
    "**XGBoost** is an algorithm that builds many decision trees, where <u> each new tree corrects the errors of the previous ones.</u> <br>\n",
    "It is based on Gradient Boosting, but introduces optimizations that make it faster and more effective on large and complex datasets. <br>\n",
    "\n",
    "Key improvments are:\n",
    "\n",
    "    * Regularization to reduce overfitting -> adds λ penalties to prevent overfitting and improve generalization.\n",
    "  \n",
    "    * Efficient handling of missing values -> automatically learns the best path for missing data, no need for preprocessing.\n",
    "  \n",
    "    * Parallelization for speed  -> computes tree splits in parallel, making training much faster on large datasets.\n",
    "  \n",
    "    * Sparsity awareness and memory optimization -> optimized for sparse data and memory usage with efficient data structures.\n"
   ]
  },
  {
   "cell_type": "markdown",
   "id": "1e3b267c",
   "metadata": {},
   "source": [
    "### B. How it works"
   ]
  },
  {
   "cell_type": "markdown",
   "id": "fea996ee",
   "metadata": {},
   "source": [
    "1) Start with an initial prediction (e.g., 0.5 for log-loss classification, or the mean of y for regression).\n",
    "2) Calculating <u>Residuals</u> for every example (Residual = prediction - real_data).\n",
    "3) Building first leaf that contains all training samples.\n",
    "4) For the first leaf, we calculate <u>Similarity Score</u>\n",
    "   \n",
    "   ![](Sim_score.png)\n",
    "\n",
    "   in easier language...\n",
    "\n",
    "\n",
    "   ![](sim_score_2.png) \n",
    "\n",
    "5) After that, we split the residuals into two groups in many possible ways. Suppose we have m residuals: in the first scenario, one residual goes to the left leaf and the remaining m-1 to the right; in the next scenario, two residuals go left and m-2 go right; and so on.\n",
    "6) For each scenario we calculate <u>Gain</u>\n",
    "   \n",
    "   ![](gain.png) \n",
    "\n",
    "   ![](gain2.png)\n",
    "\n",
    "   We chceck gain in every scenario, and pick the biggest one. The winner becomes a new node.\n",
    "\n",
    "7) This pattern continues, making new nodes until it reaches the max depth.\n",
    "\n",
    "8) However, we pick γ - parameter for prunning tree. Now we check if gain - γ is negative or not. If it is, we prune a node, and check if prevous node is also negative.\n",
    "\n",
    "9) Calculating output values\n",
    "    \n",
    "    ![](output_val.png)\n",
    "\n",
    "\n",
    "10) Update predictions: new prediction = old prediction + 𝜂⋅ (leaf weight), where 𝜂 is the learning rate.\n",
    "\n",
    "    ![](n_pred.png)"
   ]
  },
  {
   "cell_type": "markdown",
   "id": "72ebc91b",
   "metadata": {},
   "source": [
    "quick summary at 23:57 minute -> https://www.youtube.com/watch?v=OtD8wVaFm6E"
   ]
  },
  {
   "cell_type": "markdown",
   "id": "a48f2ee1",
   "metadata": {},
   "source": [
    "### C. Algorithm in Math"
   ]
  },
  {
   "cell_type": "markdown",
   "id": "d1415a94",
   "metadata": {},
   "source": [
    "### D. When to use it?"
   ]
  },
  {
   "cell_type": "markdown",
   "id": "61365099",
   "metadata": {},
   "source": [
    "* ✅ When you have large and complex datasets\n",
    "\n",
    "* ✅ When data contains missing values\n",
    "\n",
    "* ✅ When you need high accuracy \n",
    "\n",
    "* ✅ Works with diffrent types of data"
   ]
  },
  {
   "cell_type": "markdown",
   "id": "95b35bda",
   "metadata": {},
   "source": [
    "## 2. Implementation from library"
   ]
  },
  {
   "cell_type": "code",
   "execution_count": 21,
   "id": "ab8b9b35",
   "metadata": {},
   "outputs": [],
   "source": [
    "# Importing libraries\n",
    "\n",
    "from sklearn.model_selection import train_test_split\n",
    "from sklearn.metrics import accuracy_score\n",
    "import pandas as pd\n",
    "import xgboost as xgb\n",
    "import numpy as np\n",
    "from datetime import datetime\n",
    "\n"
   ]
  },
  {
   "cell_type": "code",
   "execution_count": 27,
   "id": "5af713b7",
   "metadata": {},
   "outputs": [
    {
     "data": {
      "text/html": [
       "<div>\n",
       "<style scoped>\n",
       "    .dataframe tbody tr th:only-of-type {\n",
       "        vertical-align: middle;\n",
       "    }\n",
       "\n",
       "    .dataframe tbody tr th {\n",
       "        vertical-align: top;\n",
       "    }\n",
       "\n",
       "    .dataframe thead th {\n",
       "        text-align: right;\n",
       "    }\n",
       "</style>\n",
       "<table border=\"1\" class=\"dataframe\">\n",
       "  <thead>\n",
       "    <tr style=\"text-align: right;\">\n",
       "      <th></th>\n",
       "      <th>age</th>\n",
       "      <th>gender</th>\n",
       "      <th>country</th>\n",
       "      <th>diagnosis_date</th>\n",
       "      <th>cancer_stage</th>\n",
       "      <th>family_history</th>\n",
       "      <th>smoking_status</th>\n",
       "      <th>bmi</th>\n",
       "      <th>cholesterol_level</th>\n",
       "      <th>hypertension</th>\n",
       "      <th>asthma</th>\n",
       "      <th>cirrhosis</th>\n",
       "      <th>other_cancer</th>\n",
       "      <th>treatment_type</th>\n",
       "      <th>end_treatment_date</th>\n",
       "      <th>survived</th>\n",
       "      <th>treatment_time</th>\n",
       "    </tr>\n",
       "  </thead>\n",
       "  <tbody>\n",
       "    <tr>\n",
       "      <th>0</th>\n",
       "      <td>64.0</td>\n",
       "      <td>Male</td>\n",
       "      <td>Sweden</td>\n",
       "      <td>2016-04-05</td>\n",
       "      <td>Stage I</td>\n",
       "      <td>Yes</td>\n",
       "      <td>Passive Smoker</td>\n",
       "      <td>29.4</td>\n",
       "      <td>199</td>\n",
       "      <td>0</td>\n",
       "      <td>0</td>\n",
       "      <td>1</td>\n",
       "      <td>0</td>\n",
       "      <td>Chemotherapy</td>\n",
       "      <td>2017-09-10</td>\n",
       "      <td>0</td>\n",
       "      <td>523 days</td>\n",
       "    </tr>\n",
       "    <tr>\n",
       "      <th>1</th>\n",
       "      <td>50.0</td>\n",
       "      <td>Female</td>\n",
       "      <td>Netherlands</td>\n",
       "      <td>2023-04-20</td>\n",
       "      <td>Stage III</td>\n",
       "      <td>Yes</td>\n",
       "      <td>Passive Smoker</td>\n",
       "      <td>41.2</td>\n",
       "      <td>280</td>\n",
       "      <td>1</td>\n",
       "      <td>1</td>\n",
       "      <td>0</td>\n",
       "      <td>0</td>\n",
       "      <td>Surgery</td>\n",
       "      <td>2024-06-17</td>\n",
       "      <td>1</td>\n",
       "      <td>424 days</td>\n",
       "    </tr>\n",
       "    <tr>\n",
       "      <th>2</th>\n",
       "      <td>65.0</td>\n",
       "      <td>Female</td>\n",
       "      <td>Hungary</td>\n",
       "      <td>2023-04-05</td>\n",
       "      <td>Stage III</td>\n",
       "      <td>Yes</td>\n",
       "      <td>Former Smoker</td>\n",
       "      <td>44.0</td>\n",
       "      <td>268</td>\n",
       "      <td>1</td>\n",
       "      <td>1</td>\n",
       "      <td>0</td>\n",
       "      <td>0</td>\n",
       "      <td>Combined</td>\n",
       "      <td>2024-04-09</td>\n",
       "      <td>0</td>\n",
       "      <td>370 days</td>\n",
       "    </tr>\n",
       "    <tr>\n",
       "      <th>3</th>\n",
       "      <td>51.0</td>\n",
       "      <td>Female</td>\n",
       "      <td>Belgium</td>\n",
       "      <td>2016-02-05</td>\n",
       "      <td>Stage I</td>\n",
       "      <td>No</td>\n",
       "      <td>Passive Smoker</td>\n",
       "      <td>43.0</td>\n",
       "      <td>241</td>\n",
       "      <td>1</td>\n",
       "      <td>1</td>\n",
       "      <td>0</td>\n",
       "      <td>0</td>\n",
       "      <td>Chemotherapy</td>\n",
       "      <td>2017-04-23</td>\n",
       "      <td>0</td>\n",
       "      <td>443 days</td>\n",
       "    </tr>\n",
       "    <tr>\n",
       "      <th>4</th>\n",
       "      <td>37.0</td>\n",
       "      <td>Male</td>\n",
       "      <td>Luxembourg</td>\n",
       "      <td>2023-11-29</td>\n",
       "      <td>Stage I</td>\n",
       "      <td>No</td>\n",
       "      <td>Passive Smoker</td>\n",
       "      <td>19.7</td>\n",
       "      <td>178</td>\n",
       "      <td>0</td>\n",
       "      <td>0</td>\n",
       "      <td>0</td>\n",
       "      <td>0</td>\n",
       "      <td>Combined</td>\n",
       "      <td>2025-01-08</td>\n",
       "      <td>0</td>\n",
       "      <td>406 days</td>\n",
       "    </tr>\n",
       "  </tbody>\n",
       "</table>\n",
       "</div>"
      ],
      "text/plain": [
       "    age  gender      country diagnosis_date cancer_stage family_history  \\\n",
       "0  64.0    Male       Sweden     2016-04-05      Stage I            Yes   \n",
       "1  50.0  Female  Netherlands     2023-04-20    Stage III            Yes   \n",
       "2  65.0  Female      Hungary     2023-04-05    Stage III            Yes   \n",
       "3  51.0  Female      Belgium     2016-02-05      Stage I             No   \n",
       "4  37.0    Male   Luxembourg     2023-11-29      Stage I             No   \n",
       "\n",
       "   smoking_status   bmi  cholesterol_level  hypertension  asthma  cirrhosis  \\\n",
       "0  Passive Smoker  29.4                199             0       0          1   \n",
       "1  Passive Smoker  41.2                280             1       1          0   \n",
       "2   Former Smoker  44.0                268             1       1          0   \n",
       "3  Passive Smoker  43.0                241             1       1          0   \n",
       "4  Passive Smoker  19.7                178             0       0          0   \n",
       "\n",
       "   other_cancer treatment_type end_treatment_date  survived treatment_time  \n",
       "0             0   Chemotherapy         2017-09-10         0       523 days  \n",
       "1             0        Surgery         2024-06-17         1       424 days  \n",
       "2             0       Combined         2024-04-09         0       370 days  \n",
       "3             0   Chemotherapy         2017-04-23         0       443 days  \n",
       "4             0       Combined         2025-01-08         0       406 days  "
      ]
     },
     "execution_count": 27,
     "metadata": {},
     "output_type": "execute_result"
    }
   ],
   "source": [
    "# Importing dataset \n",
    "\n",
    "df = pd.read_csv(r\"C:\\Users\\wikto\\OneDrive\\Dokumenty\\all-datasets\\Lung Cancer.csv\")\n",
    "df.head()\n",
    "\n",
    "df = df.drop('id', axis=1)\n",
    "\n",
    "df.head()\n",
    "\n",
    "\n",
    "# Prepering Data\n",
    "\n",
    "# 1. Getting days passed since diagnosis\n",
    "df[\"diagnosis_date\"] = pd.to_datetime(df[\"diagnosis_date\"])\n",
    "df[\"end_treatment_date\"] = pd.to_datetime(df[\"end_treatment_date\"])\n",
    "\n",
    "treatment_time = (df[\"diagnosis_date\"] - df[\"end_treatment_date\"]).abs()\n",
    "\n",
    "df[\"treatment_time\"] = treatment_time\n",
    "df.head()\n",
    "\n",
    "# 2. Fixing category type of data\n",
    "\n",
    "df[\"gender\"] = df[\"gender\"].astype('category')\n",
    "df[\"country\"] = df[\"country\"].astype('category')\n",
    "df[\"cancer_stage\"] = df[\"cancer_stage\"].astype('category')\n",
    "df[\"smoking_status\"] = df[\"smoking_status\"].astype('category')\n",
    "df[\"treatment_type\"] = df[\"treatment_type\"].astype('category')\n",
    "\n",
    "df.head()"
   ]
  },
  {
   "cell_type": "code",
   "execution_count": null,
   "id": "f95b791f",
   "metadata": {},
   "outputs": [],
   "source": []
  }
 ],
 "metadata": {
  "kernelspec": {
   "display_name": "venv",
   "language": "python",
   "name": "python3"
  },
  "language_info": {
   "codemirror_mode": {
    "name": "ipython",
    "version": 3
   },
   "file_extension": ".py",
   "mimetype": "text/x-python",
   "name": "python",
   "nbconvert_exporter": "python",
   "pygments_lexer": "ipython3",
   "version": "3.11.0"
  }
 },
 "nbformat": 4,
 "nbformat_minor": 5
}
